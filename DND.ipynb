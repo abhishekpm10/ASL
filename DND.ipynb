{
  "nbformat": 4,
  "nbformat_minor": 0,
  "metadata": {
    "colab": {
      "name": "DND.ipynb",
      "provenance": []
    },
    "kernelspec": {
      "name": "python3",
      "display_name": "Python 3"
    }
  },
  "cells": [
    {
      "cell_type": "code",
      "metadata": {
        "colab": {
          "base_uri": "https://localhost:8080/"
        },
        "id": "p7en5Ce_kpJg",
        "outputId": "f084baad-d856-452c-9073-5cd26e3d0a72"
      },
      "source": [
        "from google.colab import drive\n",
        "drive.mount('/content/drive')"
      ],
      "execution_count": null,
      "outputs": [
        {
          "output_type": "stream",
          "text": [
            "Drive already mounted at /content/drive; to attempt to forcibly remount, call drive.mount(\"/content/drive\", force_remount=True).\n"
          ],
          "name": "stdout"
        }
      ]
    },
    {
      "cell_type": "code",
      "metadata": {
        "id": "y6iWOM8Ek1Hc"
      },
      "source": [
        "import os\n",
        "import cv2\n",
        "import matplotlib.pyplot as plt\n",
        "import numpy as np\n",
        "from google.colab.patches import cv2_imshow\n",
        "from random import shuffle "
      ],
      "execution_count": null,
      "outputs": []
    },
    {
      "cell_type": "code",
      "metadata": {
        "id": "41HBG4HilDrX"
      },
      "source": [
        "def getLabels(typ):\n",
        "  if typ == 0: #open\n",
        "    return [1,0]\n",
        "  else:        #close\n",
        "    return [0,1]"
      ],
      "execution_count": null,
      "outputs": []
    },
    {
      "cell_type": "code",
      "metadata": {
        "colab": {
          "base_uri": "https://localhost:8080/"
        },
        "id": "EoLEez23vg8H",
        "outputId": "fa1bb9e9-edb1-4052-e745-f77818b97525"
      },
      "source": [
        "from skimage.transform import resize  # resizing images\n",
        "\n",
        "\n",
        "items1 = os.listdir(\"/content/drive/My Drive/Datasets/open_eye\")\n",
        "items2 = os.listdir(\"/content/drive/My Drive/Datasets/close_eye\")\n",
        "\n",
        "i = 0\n",
        "\n",
        "IMG_SIZE = 24\n",
        "x_data = np.empty((len(items1)+len(items2), IMG_SIZE, IMG_SIZE, 1), dtype=np.float32)\n",
        "y_data = np.empty((len(items1)+len(items2),2),dtype=np.float32)\n",
        "\n",
        "\n",
        "for each_image in items1:\n",
        "  \n",
        "  full_path = \"/content/drive/My Drive/Datasets/open_eye/\" + each_image\n",
        "  image = cv2.imread(full_path)\n",
        "  #print(image.shape)\n",
        "  img_cvt = cv2.cvtColor(image,cv2.COLOR_BGR2GRAY)\n",
        "  img = resize(img_cvt, output_shape=(IMG_SIZE, IMG_SIZE, 1), preserve_range=True)\n",
        "  x_data[i] = img\n",
        "  y_data[i] = [1.0,0.0]\n",
        "\n",
        "  i += 1\n",
        "  #print(img_cvt.shape)\n",
        "  #cv2_imshow(image)\n",
        "  #print(image)\n",
        "\n",
        "len(items1)\n",
        "#len(items2)"
      ],
      "execution_count": null,
      "outputs": [
        {
          "output_type": "stream",
          "text": [
            "672\n"
          ],
          "name": "stdout"
        }
      ]
    },
    {
      "cell_type": "code",
      "metadata": {
        "colab": {
          "base_uri": "https://localhost:8080/"
        },
        "id": "m6kDOIxzMBY4",
        "outputId": "e320bcac-f3d5-41ad-b91e-aef56c35a28f"
      },
      "source": [
        "print(i)"
      ],
      "execution_count": null,
      "outputs": [
        {
          "output_type": "stream",
          "text": [
            "672\n"
          ],
          "name": "stdout"
        }
      ]
    },
    {
      "cell_type": "code",
      "metadata": {
        "colab": {
          "base_uri": "https://localhost:8080/",
          "height": 57
        },
        "id": "A86yQ3j70EDc",
        "outputId": "dc703588-f948-4194-9a29-48cae3bee21f"
      },
      "source": [
        "full_path = \"/content/B0.jpg\"\n",
        "img = cv2.imread(full_path)\n",
        "res = cv2.resize(img, dsize=(24, 24), interpolation=cv2.INTER_CUBIC)\n",
        "cv2_imshow(res)\n",
        "res.shape"
      ],
      "execution_count": null,
      "outputs": [
        {
          "output_type": "display_data",
          "data": {
            "image/png": "[encoded data removed]",
            "text/plain": [
              "<PIL.Image.Image image mode=RGB size=24x24 at 0x7F4C64188AC8>"
            ]
          },
          "metadata": {
            "tags": []
          }
        },
        {
          "output_type": "execute_result",
          "data": {
            "text/plain": [
              "(24, 24, 3)"
            ]
          },
          "metadata": {
            "tags": []
          },
          "execution_count": 24
        }
      ]
    },
    {
      "cell_type": "code",
      "metadata": {
        "colab": {
          "base_uri": "https://localhost:8080/",
          "height": 41
        },
        "id": "G4GLj-dHDw9A",
        "outputId": "2637fc11-506c-420c-df16-7696b7f75be3"
      },
      "source": [
        "from google.colab.patches import cv2_imshow\n",
        "cv2_imshow(x_data[0])"
      ],
      "execution_count": null,
      "outputs": [
        {
          "output_type": "display_data",
          "data": {
            "image/png": "[encoded data removed]",
            "text/plain": [
              "<PIL.Image.Image image mode=RGB size=24x24 at 0x7F4C64188CC0>"
            ]
          },
          "metadata": {
            "tags": []
          }
        }
      ]
    },
    {
      "cell_type": "code",
      "metadata": {
        "colab": {
          "base_uri": "https://localhost:8080/"
        },
        "id": "I7LKLS1zDz8q",
        "outputId": "b69cf2a2-5894-417a-dee0-a9c949142e83"
      },
      "source": [
        "print(len(items1))\n",
        "print(len(items2))\n",
        "print(i)"
      ],
      "execution_count": null,
      "outputs": [
        {
          "output_type": "stream",
          "text": [
            "672\n",
            "698\n",
            "672\n"
          ],
          "name": "stdout"
        }
      ]
    },
    {
      "cell_type": "code",
      "metadata": {
        "id": "N6EKMVEUD3Oa"
      },
      "source": [
        "\n",
        "\n",
        "for each_image in items2:\n",
        "  full_path = \"/content/drive/My Drive/Datasets/close_eye/\" + each_image\n",
        "  image = cv2.imread(full_path)\n",
        "  img_cvt = cv2.cvtColor(image,cv2.COLOR_BGR2GRAY)\n",
        "  img = resize(img_cvt, output_shape=(IMG_SIZE, IMG_SIZE, 1), preserve_range=True)\n",
        "  x_data[i] = img\n",
        "  y_data[i] = [0.0,1.0]\n",
        "\n",
        "  i += 1\n",
        "\n",
        "#x_data.shape"
      ],
      "execution_count": null,
      "outputs": []
    },
    {
      "cell_type": "code",
      "metadata": {
        "id": "dTER7aJ2QLzg"
      },
      "source": [
        "from keras.models import Sequential \n",
        "from keras.layers import Dropout,Conv2D,Flatten,Dense, MaxPooling2D, BatchNormalization \n",
        "from keras.layers.normalization import BatchNormalization \n",
        "from keras.utils import np_utils"
      ],
      "execution_count": null,
      "outputs": []
    },
    {
      "cell_type": "code",
      "metadata": {
        "colab": {
          "base_uri": "https://localhost:8080/"
        },
        "id": "hbW2A7WtQU1f",
        "outputId": "cdf6639b-cf0f-4d2b-d236-9fe713990b0e"
      },
      "source": [
        "\n",
        "\n",
        "x_data = x_data/255\n",
        "x_data[0].shape"
      ],
      "execution_count": null,
      "outputs": [
        {
          "output_type": "execute_result",
          "data": {
            "text/plain": [
              "(24, 24, 1)"
            ]
          },
          "metadata": {
            "tags": []
          },
          "execution_count": 36
        }
      ]
    },
    {
      "cell_type": "code",
      "metadata": {
        "colab": {
          "base_uri": "https://localhost:8080/"
        },
        "id": "ygMq0xoiQY_p",
        "outputId": "858ab7cc-5f22-4566-9f9d-c9274e96777a"
      },
      "source": [
        "from sklearn.model_selection import train_test_split\n",
        "\n",
        "x_train, x_test, y_train, y_test = train_test_split( x_data, y_data, test_size=0.25, random_state=4)\n",
        "print ('Train set:', x_train.shape,  y_train.shape)\n",
        "print ('Test set:', x_test.shape,  y_test.shape)"
      ],
      "execution_count": null,
      "outputs": [
        {
          "output_type": "stream",
          "text": [
            "Train set: (1027, 24, 24, 1) (1027, 2)\n",
            "Test set: (343, 24, 24, 1) (343, 2)\n"
          ],
          "name": "stdout"
        }
      ]
    },
    {
      "cell_type": "code",
      "metadata": {
        "id": "Q9vQsNXbRN9M"
      },
      "source": [
        "model=Sequential()\n",
        "\n",
        "model.add(Conv2D(32,kernel_size=(3, 3), activation='relu', input_shape=(IMG_SIZE,IMG_SIZE,1)))\n",
        "model.add(MaxPooling2D(pool_size=(1,1)))\n",
        "\n",
        "model.add(Conv2D(32,(3,3),activation='relu'))\n",
        "model.add(MaxPooling2D(pool_size=(1,1)))\n",
        "\n",
        "model.add(Conv2D(64, (3, 3), activation='relu'))\n",
        "model.add(MaxPooling2D(pool_size=(1,1)))\n",
        "\n",
        "model.add(Dropout(0.25))\n",
        "model.add(Flatten())\n",
        "\n",
        "model.add(Dense(128,activation='relu'))\n",
        "\n",
        "model.add(Dropout(0.50))\n",
        "\n",
        "model.add(Dense(2, activation='softmax'))\n",
        "\n",
        "model.compile(optimizer='adam',loss='categorical_crossentropy',metrics=['accuracy'])"
      ],
      "execution_count": null,
      "outputs": []
    },
    {
      "cell_type": "code",
      "metadata": {
        "colab": {
          "base_uri": "https://localhost:8080/"
        },
        "id": "h3kCA7WzRQSi",
        "outputId": "86f9da0c-126c-4007-aeb2-fa77467d368b"
      },
      "source": [
        "model.fit(x_train,y_train,validation_data=(x_test,y_test),batch_size=20,epochs=30,verbose=1)"
      ],
      "execution_count": null,
      "outputs": [
        {
          "output_type": "stream",
          "text": [
            "Epoch 1/30\n",
            "52/52 [==============================] - 5s 90ms/step - loss: 0.4376 - accuracy: 0.7668 - val_loss: 0.2039 - val_accuracy: 0.9679\n",
            "Epoch 2/30\n",
            "52/52 [==============================] - 4s 80ms/step - loss: 0.1161 - accuracy: 0.9723 - val_loss: 0.1868 - val_accuracy: 0.9708\n",
            "Epoch 3/30\n",
            "52/52 [==============================] - 4s 80ms/step - loss: 0.0563 - accuracy: 0.9874 - val_loss: 0.1315 - val_accuracy: 0.9738\n",
            "Epoch 4/30\n",
            "52/52 [==============================] - 4s 81ms/step - loss: 0.0393 - accuracy: 0.9937 - val_loss: 0.1378 - val_accuracy: 0.9854\n",
            "Epoch 5/30\n",
            "52/52 [==============================] - 4s 80ms/step - loss: 0.0158 - accuracy: 0.9971 - val_loss: 0.1023 - val_accuracy: 0.9796\n",
            "Epoch 6/30\n",
            "52/52 [==============================] - 4s 81ms/step - loss: 0.0159 - accuracy: 0.9982 - val_loss: 0.0985 - val_accuracy: 0.9883\n",
            "Epoch 7/30\n",
            "52/52 [==============================] - 4s 81ms/step - loss: 0.0256 - accuracy: 0.9966 - val_loss: 0.1378 - val_accuracy: 0.9913\n",
            "Epoch 8/30\n",
            "52/52 [==============================] - 4s 81ms/step - loss: 0.0256 - accuracy: 0.9976 - val_loss: 0.1133 - val_accuracy: 0.9913\n",
            "Epoch 9/30\n",
            "52/52 [==============================] - 4s 81ms/step - loss: 0.0087 - accuracy: 0.9989 - val_loss: 0.0886 - val_accuracy: 0.9883\n",
            "Epoch 10/30\n",
            "52/52 [==============================] - 4s 81ms/step - loss: 0.0219 - accuracy: 0.9933 - val_loss: 0.1208 - val_accuracy: 0.9883\n",
            "Epoch 11/30\n",
            "52/52 [==============================] - 4s 81ms/step - loss: 0.0042 - accuracy: 0.9998 - val_loss: 0.0764 - val_accuracy: 0.9942\n",
            "Epoch 12/30\n",
            "52/52 [==============================] - 4s 82ms/step - loss: 0.0072 - accuracy: 0.9988 - val_loss: 0.1166 - val_accuracy: 0.9913\n",
            "Epoch 13/30\n",
            "52/52 [==============================] - 4s 82ms/step - loss: 0.0010 - accuracy: 1.0000 - val_loss: 0.1039 - val_accuracy: 0.9913\n",
            "Epoch 14/30\n",
            "52/52 [==============================] - 4s 82ms/step - loss: 0.0130 - accuracy: 0.9988 - val_loss: 0.1269 - val_accuracy: 0.9883\n",
            "Epoch 15/30\n",
            "52/52 [==============================] - 4s 81ms/step - loss: 0.0141 - accuracy: 0.9989 - val_loss: 0.0953 - val_accuracy: 0.9942\n",
            "Epoch 16/30\n",
            "52/52 [==============================] - 4s 81ms/step - loss: 0.0134 - accuracy: 0.9971 - val_loss: 0.1225 - val_accuracy: 0.9913\n",
            "Epoch 17/30\n",
            "52/52 [==============================] - 4s 83ms/step - loss: 0.0125 - accuracy: 0.9952 - val_loss: 0.0827 - val_accuracy: 0.9942\n",
            "Epoch 18/30\n",
            "52/52 [==============================] - 4s 82ms/step - loss: 0.0113 - accuracy: 0.9956 - val_loss: 0.0730 - val_accuracy: 0.9913\n",
            "Epoch 19/30\n",
            "52/52 [==============================] - 4s 83ms/step - loss: 0.0097 - accuracy: 0.9990 - val_loss: 0.0880 - val_accuracy: 0.9883\n",
            "Epoch 20/30\n",
            "52/52 [==============================] - 4s 81ms/step - loss: 0.0127 - accuracy: 0.9971 - val_loss: 0.0933 - val_accuracy: 0.9883\n",
            "Epoch 21/30\n",
            "52/52 [==============================] - 4s 82ms/step - loss: 0.0151 - accuracy: 0.9959 - val_loss: 0.1119 - val_accuracy: 0.9942\n",
            "Epoch 22/30\n",
            "52/52 [==============================] - 4s 82ms/step - loss: 0.0094 - accuracy: 0.9975 - val_loss: 0.1261 - val_accuracy: 0.9913\n",
            "Epoch 23/30\n",
            "52/52 [==============================] - 4s 81ms/step - loss: 0.0037 - accuracy: 0.9996 - val_loss: 0.0684 - val_accuracy: 0.9942\n",
            "Epoch 24/30\n",
            "52/52 [==============================] - 4s 82ms/step - loss: 0.0049 - accuracy: 0.9996 - val_loss: 0.0697 - val_accuracy: 0.9942\n",
            "Epoch 25/30\n",
            "52/52 [==============================] - 4s 81ms/step - loss: 0.0043 - accuracy: 0.9996 - val_loss: 0.0786 - val_accuracy: 0.9942\n",
            "Epoch 26/30\n",
            "52/52 [==============================] - 4s 82ms/step - loss: 0.0098 - accuracy: 0.9971 - val_loss: 0.1066 - val_accuracy: 0.9942\n",
            "Epoch 27/30\n",
            "52/52 [==============================] - 4s 82ms/step - loss: 0.0023 - accuracy: 0.9997 - val_loss: 0.0837 - val_accuracy: 0.9913\n",
            "Epoch 28/30\n",
            "52/52 [==============================] - 4s 82ms/step - loss: 0.0085 - accuracy: 0.9974 - val_loss: 0.1166 - val_accuracy: 0.9942\n",
            "Epoch 29/30\n",
            "52/52 [==============================] - 4s 81ms/step - loss: 0.0018 - accuracy: 0.9995 - val_loss: 0.1000 - val_accuracy: 0.9942\n",
            "Epoch 30/30\n",
            "52/52 [==============================] - 4s 82ms/step - loss: 0.0036 - accuracy: 0.9993 - val_loss: 0.1016 - val_accuracy: 0.9942\n"
          ],
          "name": "stdout"
        },
        {
          "output_type": "execute_result",
          "data": {
            "text/plain": [
              "<tensorflow.python.keras.callbacks.History at 0x7f4c2dba1240>"
            ]
          },
          "metadata": {
            "tags": []
          },
          "execution_count": 40
        }
      ]
    },
    {
      "cell_type": "code",
      "metadata": {
        "colab": {
          "base_uri": "https://localhost:8080/"
        },
        "id": "DPdZs3wiSCVd",
        "outputId": "c7b9ae53-a8c8-4e80-f55c-4da78513ea7b"
      },
      "source": [
        "import time\n",
        "t = time.time()\n",
        "\n",
        "export_path_keras = \"/content/drive/MyDrive/Datasets/cnnEye.h5\".format(int(t))\n",
        "print(export_path_keras)\n",
        "\n",
        "model.save(export_path_keras)"
      ],
      "execution_count": null,
      "outputs": [
        {
          "output_type": "stream",
          "text": [
            "/content/drive/MyDrive/Datasets/cnnEye.h5\n"
          ],
          "name": "stdout"
        }
      ]
    },
    {
      "cell_type": "code",
      "metadata": {
        "id": "7tBgK7W5VPNQ",
        "colab": {
          "base_uri": "https://localhost:8080/"
        },
        "outputId": "58d80a0e-1db8-4f9c-a5e8-5d0bd7d5bac9"
      },
      "source": [
        "print(model.summary())"
      ],
      "execution_count": null,
      "outputs": [
        {
          "output_type": "stream",
          "text": [
            "Model: \"sequential_1\"\n",
            "_________________________________________________________________\n",
            "Layer (type)                 Output Shape              Param #   \n",
            "=================================================================\n",
            "conv2d_3 (Conv2D)            (None, 22, 22, 32)        320       \n",
            "_________________________________________________________________\n",
            "max_pooling2d_3 (MaxPooling2 (None, 22, 22, 32)        0         \n",
            "_________________________________________________________________\n",
            "conv2d_4 (Conv2D)            (None, 20, 20, 32)        9248      \n",
            "_________________________________________________________________\n",
            "max_pooling2d_4 (MaxPooling2 (None, 20, 20, 32)        0         \n",
            "_________________________________________________________________\n",
            "conv2d_5 (Conv2D)            (None, 18, 18, 64)        18496     \n",
            "_________________________________________________________________\n",
            "max_pooling2d_5 (MaxPooling2 (None, 18, 18, 64)        0         \n",
            "_________________________________________________________________\n",
            "dropout_2 (Dropout)          (None, 18, 18, 64)        0         \n",
            "_________________________________________________________________\n",
            "flatten_1 (Flatten)          (None, 20736)             0         \n",
            "_________________________________________________________________\n",
            "dense_2 (Dense)              (None, 128)               2654336   \n",
            "_________________________________________________________________\n",
            "dropout_3 (Dropout)          (None, 128)               0         \n",
            "_________________________________________________________________\n",
            "dense_3 (Dense)              (None, 2)                 258       \n",
            "=================================================================\n",
            "Total params: 2,682,658\n",
            "Trainable params: 2,682,658\n",
            "Non-trainable params: 0\n",
            "_________________________________________________________________\n",
            "None\n"
          ],
          "name": "stdout"
        }
      ]
    }
  ]
}